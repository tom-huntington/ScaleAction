{
 "cells": [
  {
   "cell_type": "code",
   "execution_count": 9,
   "id": "needed-keeping",
   "metadata": {},
   "outputs": [],
   "source": [
    "from manim import *"
   ]
  },
  {
   "cell_type": "code",
   "execution_count": 7,
   "id": "1181d593",
   "metadata": {},
   "outputs": [],
   "source": [
    "class ScaleAction(Animation):\n",
    "    def __init__(\n",
    "        self,\n",
    "        mobject: Mobject,\n",
    "        scale: float = 2,\n",
    "        **kwargs,\n",
    "    ):\n",
    "        super().__init__(mobject, **kwargs)\n",
    "        \n",
    "    def interpolate_submobject(\n",
    "        self,\n",
    "        submobject: Mobject,\n",
    "        starting_submobject: Mobject,\n",
    "        #target_copy: Mobject,\n",
    "        alpha: float,\n",
    "    ):\n",
    "        #print(f\"{alpha=}\")\n",
    "        def action(array):\n",
    "            return array *(1*(1-alpha)+2*alpha)\n",
    "        \n",
    "        #def debug(subobj):\n",
    "        #    return subobj.family_members_with_points()[0].points[0,:]\n",
    "        #print(f\"{alpha=}, sub_before={debug(submobject)}, start_before={debug(starting_submobject)}\")\n",
    "        submobject = starting_submobject.copy().apply_function(action)\n",
    "        #print(f\"{alpha=},  sub_after={debug(submobject)}, start_after={debug(starting_submobject)}\")\n",
    "        return self"
   ]
  },
  {
   "cell_type": "code",
   "execution_count": 8,
   "id": "exclusive-superior",
   "metadata": {},
   "outputs": [
    {
     "name": "stderr",
     "output_type": "stream",
     "text": [
      "                                                                                                                        \r"
     ]
    },
    {
     "data": {
      "text/html": [
       "<video src=\"media/jupyter/ExampleArrow3D@2022-10-29@17-29-45.mp4\" controls autoplay loop style=\"max-width: 60%;\"  >\n",
       "      Your browser does not support the <code>video</code> element.\n",
       "    </video>"
      ],
      "text/plain": [
       "<IPython.core.display.Video object>"
      ]
     },
     "metadata": {},
     "output_type": "display_data"
    }
   ],
   "source": [
    "%%manim -qm -v WARNING ExampleArrow3D\n",
    "class ExampleArrow3D(ThreeDScene):\n",
    "    def construct(self):\n",
    "        axes = ThreeDAxes()\n",
    "        arrow = Arrow3D(\n",
    "            start=np.array([0, 0, 0]),\n",
    "            end=np.array([2, 2, 2]),\n",
    "            resolution=8\n",
    "        )\n",
    "        arrow2 = Arrow3D(\n",
    "            start=np.array([0, 0, 0]),\n",
    "            end=np.array([-2, 2, 2]),\n",
    "            resolution=8\n",
    "        )\n",
    "        self.set_camera_orientation(phi=75 * DEGREES, theta=30 * DEGREES)\n",
    "        self.add(axes, arrow, arrow2)\n",
    "        self.begin_ambient_camera_rotation(rate=.2)\n",
    "        self.play(ScaleAction(arrow))"
   ]
  },
  {
   "cell_type": "code",
   "execution_count": null,
   "id": "40b9eee7",
   "metadata": {},
   "outputs": [],
   "source": []
  }
 ],
 "metadata": {
  "kernelspec": {
   "display_name": "Python 3 (ipykernel)",
   "language": "python",
   "name": "python3"
  },
  "language_info": {
   "codemirror_mode": {
    "name": "ipython",
    "version": 3
   },
   "file_extension": ".py",
   "mimetype": "text/x-python",
   "name": "python",
   "nbconvert_exporter": "python",
   "pygments_lexer": "ipython3",
   "version": "3.8.10"
  }
 },
 "nbformat": 4,
 "nbformat_minor": 5
}
